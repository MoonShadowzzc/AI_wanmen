{
 "cells": [
  {
   "cell_type": "markdown",
   "metadata": {},
   "source": [
    "# 熟悉Jupyter notebook\n",
    "\n",
    "* python 环境与版本\n",
    "* 几个重要的工具：numpy, scipy, sklearn, pandas, keras, tensorflow\n",
    "* 安装 tensorflow 与 keras\n",
    "* jupyter notebook基本使用\n",
    "* markdown的用法"
   ]
  },
  {
   "cell_type": "markdown",
   "metadata": {},
   "source": [
    "## 0. python 环境与版本"
   ]
  },
  {
   "cell_type": "code",
   "execution_count": null,
   "metadata": {
    "collapsed": true
   },
   "outputs": [],
   "source": []
  },
  {
   "cell_type": "markdown",
   "metadata": {},
   "source": [
    "众多的版本（解释器的版本）以及其配套的工具包与安装环境，可能造成了使用起来的混乱。比如说你在命令行里面给python3.6安装了numpy，但在python2.7里面想调用python3.6的numpy就不行，需要对应起来使用。Anaconda就提供了一个比较好的环境，将不同版本的python分开使用，这也是为什么我们选择用anaconda来作为讲解的工具。这里我们花点时间讲一讲ananconda的使用以及python环境与版本的管理。"
   ]
  },
  {
   "cell_type": "markdown",
   "metadata": {},
   "source": [
    "我们可以把python的环境理解为游戏英雄的"
   ]
  },
  {
   "cell_type": "markdown",
   "metadata": {},
   "source": [
    "在选择最新版本的Anaconda时，请选择python3.6版本。现在众多工具包已经宣布停止对python2.7版本的维护和升级，转向python3.6。我们也需要与时俱进。但是，我们依然要装python2.7，因为有一些工具只支持python2.7，我们本节课的重点就是利用anaconda装新的python环境"
   ]
  },
  {
   "cell_type": "markdown",
   "metadata": {},
   "source": [
    "## 1. 打开jupyter notebook"
   ]
  },
  {
   "cell_type": "markdown",
   "metadata": {},
   "source": [
    "* mac user: 直接在terminal里面，用cd 命令进入到目标文件夹，然后敲击 jupyter notebook\n",
    "* windows user: 在左下方windows开始键中，找 anaconda prompt 这个应用，点击激活，cd 到相应文件夹，然后敲击 jupyter notebook\n",
    "\n",
    "进入后，在右方点击 new，选择想用的kernel即可\n",
    "\n"
   ]
  },
  {
   "cell_type": "markdown",
   "metadata": {
    "collapsed": true
   },
   "source": [
    "<img src='jupyter_new.png',width=800>\n"
   ]
  },
  {
   "cell_type": "code",
   "execution_count": null,
   "metadata": {
    "collapsed": true
   },
   "outputs": [],
   "source": []
  },
  {
   "cell_type": "markdown",
   "metadata": {},
   "source": [
    "## 2. Jupyter notebook的基本使用技巧"
   ]
  },
  {
   "cell_type": "markdown",
   "metadata": {},
   "source": [
    "以下所有操作都需要在命令模式下完成（按ESC或者点击编辑框外的空白处）\n",
    "\n",
    "* 向上增加空白cell, <span style=\"color:blue\">A</span>\n",
    "* 向下增加空白cell, <span style=\"color:blue\">B</span>\n",
    "* 运行cell，并将光标移动到下一个cell，<span style=\"color:blue\">shift+enter</span>\n",
    "* 运行cell，<span style=\"color:blue\">ctrl+enter</span>\n",
    "* 删除本cell，<span style=\"color:blue\">DD</span>\n",
    "* 剪切本cell, <span style=\"color:blue\">X</span>\n",
    "* 粘贴本cell, <span style=\"color:blue\">V</span>\n",
    "\n",
    "* 合并两个cell,<span style=\"color:blue\">A</span>\n",
    "* 将cell转为代码状态，<span style=\"color:blue\">Y</span>\n",
    "* 将cell转为markdown状态，<span style=\"color:blue\">M</span>\n",
    "* 将选中的几个cells合并，<span style=\"color:blue\">Shift+M</span>\n",
    "* 打开／关闭行号，<span style=\"color:blue\">L</span>\n",
    "* 恢复删除的最后一个cell，<span style='color:blue'>Z</span>  只有最后一个啊\n",
    "* 选中代码整体左移／右移, <span style = 'color:blue'>ctrl+[或者ctrl+]</span>"
   ]
  },
  {
   "cell_type": "code",
   "execution_count": null,
   "metadata": {
    "collapsed": true
   },
   "outputs": [],
   "source": []
  },
  {
   "cell_type": "markdown",
   "metadata": {},
   "source": [
    "## 3.如何添加安装多个python环境？\n",
    "\n",
    "\n",
    "这里我们需要分两步走：\n",
    "1. 用conda新建python环境\n",
    "2. 用ipykernel 将新建的python环境加到jupyter notebook里面\n",
    "\n"
   ]
  },
  {
   "cell_type": "markdown",
   "metadata": {},
   "source": [
    "方法：在命令行中执行以下代码 (相关阅读材料https://ipython.readthedocs.io/en/latest/install/kernel_install.html)"
   ]
  },
  {
   "cell_type": "markdown",
   "metadata": {},
   "source": [
    "### 3.1 用conda新建环境"
   ]
  },
  {
   "cell_type": "markdown",
   "metadata": {
    "collapsed": true
   },
   "source": [
    "下面这，py27是一个自定义的名称，而python=2.7是一个格式，可以变动等号右边的数字来改变python环境的kernel版本,这里我们安装的是2.7版本\n",
    "\n",
    "> conda create -n py27 python=2.7\n"
   ]
  },
  {
   "cell_type": "code",
   "execution_count": null,
   "metadata": {
    "collapsed": true
   },
   "outputs": [],
   "source": []
  },
  {
   "cell_type": "code",
   "execution_count": null,
   "metadata": {
    "collapsed": true
   },
   "outputs": [],
   "source": []
  },
  {
   "cell_type": "markdown",
   "metadata": {},
   "source": [
    "在创建环境后，需要进入该环境，安装其他工具，进入环境的命令，在windows和mac下面不一样"
   ]
  },
  {
   "cell_type": "markdown",
   "metadata": {},
   "source": [
    "* Mac用户使用\n",
    "> source activate py27\n"
   ]
  },
  {
   "cell_type": "markdown",
   "metadata": {},
   "source": [
    "* WINDOWS用户使用\n",
    "> activate py27\n"
   ]
  },
  {
   "cell_type": "markdown",
   "metadata": {},
   "source": [
    "* 确认一下python的版本\n",
    "> python -V"
   ]
  },
  {
   "cell_type": "markdown",
   "metadata": {},
   "source": [
    "关闭 python27环境（现在先不要关）\n",
    " \n",
    ">deactivate"
   ]
  },
  {
   "cell_type": "markdown",
   "metadata": {},
   "source": [
    "### 3.2 如何将更多环境添加到 jupyter notebook中？"
   ]
  },
  {
   "cell_type": "markdown",
   "metadata": {},
   "source": [
    "先进入一个python 环境,在这个环境内，通过下面两条命令，安装ipykernel，然后将环境加到jupyter notebook里面去，并命名Python27"
   ]
  },
  {
   "cell_type": "markdown",
   "metadata": {},
   "source": [
    "> pip install ipykernel\n",
    "\n",
    "> python -m ipykernel install --name Python27\n"
   ]
  },
  {
   "cell_type": "markdown",
   "metadata": {
    "collapsed": true
   },
   "source": [
    "查看已有kernel \n",
    "> jupyter kernelspec list"
   ]
  },
  {
   "cell_type": "markdown",
   "metadata": {},
   "source": [
    "分清python环境为什么重要？\n",
    "\n",
    "* 避免**语法版本不一引起的错误**\n",
    "* 避免**工具包安装与调用的混乱**\n"
   ]
  },
  {
   "cell_type": "code",
   "execution_count": null,
   "metadata": {
    "collapsed": true
   },
   "outputs": [],
   "source": []
  },
  {
   "cell_type": "markdown",
   "metadata": {
    "collapsed": true
   },
   "source": [
    "### 3.3 检测jupyter notebook里面有没有新的kernel"
   ]
  },
  {
   "cell_type": "markdown",
   "metadata": {},
   "source": [
    "* **重新启动一个anaconda prompt**，在这里面，敲击jupyter notebook，进入之后，点右上**new**那一个键，看里面有没有刚刚安装的kernel，Python27，有就成功了"
   ]
  },
  {
   "cell_type": "code",
   "execution_count": null,
   "metadata": {
    "collapsed": true
   },
   "outputs": [],
   "source": []
  },
  {
   "cell_type": "code",
   "execution_count": null,
   "metadata": {
    "collapsed": true
   },
   "outputs": [],
   "source": []
  },
  {
   "cell_type": "markdown",
   "metadata": {},
   "source": [
    "### 附加题 安装决策树可视化工具 Graphviz\n",
    "\n",
    "这个工具的安装有很多问题，比较麻烦\n",
    "\n",
    "下载链接：https://graphviz.gitlab.io/download/\n",
    "\n",
    "1. 下载并安装，记录安装的地址，\n",
    "2. 在windows下调整PATH，把刚才记录的地址添加到Path中，不会调Path的同学请百度更改‘系统环境变量’\n",
    "3. 在相应环境下的terminal中使用 pip install graphviz\n",
    "4. 按顺序试一试以下的几块代码，如果能够成功画出决策树，就没有问题了"
   ]
  },
  {
   "cell_type": "code",
   "execution_count": 1,
   "metadata": {
    "collapsed": true
   },
   "outputs": [],
   "source": [
    "import graphviz"
   ]
  },
  {
   "cell_type": "code",
   "execution_count": 2,
   "metadata": {
    "collapsed": true
   },
   "outputs": [],
   "source": [
    "import sklearn.datasets as datasets\n",
    "import pandas as pd\n",
    "iris=datasets.load_iris()\n",
    "df=pd.DataFrame(iris.data, columns=iris.feature_names)\n",
    "y=iris.target"
   ]
  },
  {
   "cell_type": "code",
   "execution_count": 3,
   "metadata": {},
   "outputs": [
    {
     "data": {
      "text/plain": [
       "DecisionTreeClassifier(class_weight=None, criterion='gini', max_depth=None,\n",
       "            max_features=None, max_leaf_nodes=None,\n",
       "            min_impurity_decrease=0.0, min_impurity_split=None,\n",
       "            min_samples_leaf=1, min_samples_split=2,\n",
       "            min_weight_fraction_leaf=0.0, presort=False, random_state=None,\n",
       "            splitter='best')"
      ]
     },
     "execution_count": 3,
     "metadata": {},
     "output_type": "execute_result"
    }
   ],
   "source": [
    "from sklearn.tree import DecisionTreeClassifier\n",
    "dtree=DecisionTreeClassifier()\n",
    "dtree.fit(df,y)"
   ]
  },
  {
   "cell_type": "code",
   "execution_count": 4,
   "metadata": {},
   "outputs": [
    {
     "data": {
      "image/png": "[encoded data removed]",
      "text/plain": [
       "<IPython.core.display.Image object>"
      ]
     },
     "execution_count": 4,
     "metadata": {},
     "output_type": "execute_result"
    }
   ],
   "source": [
    "from sklearn.externals.six import StringIO  \n",
    "from IPython.display import Image  \n",
    "from sklearn.tree import export_graphviz\n",
    "import pydotplus\n",
    "dot_data = StringIO()\n",
    "export_graphviz(dtree, out_file=dot_data,  \n",
    "                filled=True, rounded=True,\n",
    "                special_characters=True)\n",
    "graph = pydotplus.graph_from_dot_data(dot_data.getvalue())  \n",
    "Image(graph.create_png())\n"
   ]
  },
  {
   "cell_type": "code",
   "execution_count": null,
   "metadata": {
    "collapsed": true
   },
   "outputs": [],
   "source": []
  },
  {
   "cell_type": "markdown",
   "metadata": {},
   "source": [
    "## 4. 几个重要的工具\n",
    "\n",
    "> import numpy as np\n",
    "\n",
    "> import scipy\n",
    "\n",
    "> import pandas as pd\n",
    "\n",
    "> import sklearn \n",
    "\n",
    "> import keras.backend as K\n",
    "\n",
    "> import tensorflow as tf"
   ]
  },
  {
   "cell_type": "markdown",
   "metadata": {},
   "source": [
    "### numpy\n",
    "numpy定义了python进行矩阵数值计算的基础\n",
    "> np.add(A,B)\n",
    "\n",
    "> np.subtract(A,B)\n",
    "\n",
    "> np.dot(C,D)\n",
    "\n",
    "> np.matmul(C,D)           ## C@D\n",
    "\n",
    "> np.multiply(C,D)         ## C*D"
   ]
  },
  {
   "cell_type": "code",
   "execution_count": 9,
   "metadata": {},
   "outputs": [
    {
     "name": "stdout",
     "output_type": "stream",
     "text": [
      "A+B =  [5 5 3]\n",
      "A-B =  [-3 -1  3]\n"
     ]
    }
   ],
   "source": [
    "import numpy as np\n",
    "A = np.array([1,2,3])\n",
    "B = np.array([4,3,0])\n",
    "print('A+B = ',np.add(A,B))\n",
    "print('A-B = ',np.subtract(A,B))"
   ]
  },
  {
   "cell_type": "code",
   "execution_count": 10,
   "metadata": {},
   "outputs": [
    {
     "name": "stdout",
     "output_type": "stream",
     "text": [
      "np.dot(C,D) =  [[18 11 16 16]\n",
      " [ 9  6 12 12]]\n",
      "np.matmul(C,D) =  [[18 11 16 16]\n",
      " [ 9  6 12 12]]\n",
      "        C@D    =  [[18 11 16 16]\n",
      " [ 9  6 12 12]]\n",
      "np.multiply(D,D)= [[16  9 81 81]\n",
      " [ 1  1  4  4]\n",
      " [16  4  1  1]]\n",
      "          D*D   =  [[16  9 81 81]\n",
      " [ 1  1  4  4]\n",
      " [16  4  1  1]]\n"
     ]
    }
   ],
   "source": [
    "C = np.array([[1,2,3],\n",
    "            [1,1,1]])\n",
    "D = np.array([[4,3,9,9],\n",
    "            [1,1,2,2,],\n",
    "            [4,2,1,1]])\n",
    "print('np.dot(C,D) = ',np.dot(C,D))\n",
    "print('np.matmul(C,D) = ',np.matmul(C,D))\n",
    "print('        C@D    = ',np.matmul(C,D))\n",
    "\n",
    "print('np.multiply(D,D)=',np.multiply(D,D))\n",
    "print('          D*D   = ', D*D)"
   ]
  },
  {
   "cell_type": "code",
   "execution_count": null,
   "metadata": {
    "collapsed": true
   },
   "outputs": [],
   "source": []
  },
  {
   "cell_type": "code",
   "execution_count": null,
   "metadata": {
    "collapsed": true
   },
   "outputs": [],
   "source": []
  },
  {
   "cell_type": "code",
   "execution_count": null,
   "metadata": {
    "collapsed": true
   },
   "outputs": [],
   "source": []
  },
  {
   "cell_type": "code",
   "execution_count": null,
   "metadata": {
    "collapsed": true
   },
   "outputs": [],
   "source": []
  },
  {
   "cell_type": "markdown",
   "metadata": {},
   "source": [
    "### 重点看看 np.dot 和 np.matmul的区别\n",
    "\n",
    "* 都是矩阵乘法\n",
    "* np.matmul中，禁止矩阵与标量的乘法\n",
    "* np.matmul中，在矢量乘矢量的内积运算中，matmul与dot没有差别\n",
    "* np.matmul中，多维的矩阵，将前n-2维视为后2维的元素后，进行乘法操作"
   ]
  },
  {
   "cell_type": "markdown",
   "metadata": {},
   "source": [
    "#### 矢量内积无区别，结果是标量"
   ]
  },
  {
   "cell_type": "code",
   "execution_count": 11,
   "metadata": {},
   "outputs": [
    {
     "name": "stdout",
     "output_type": "stream",
     "text": [
      "14\n",
      "14\n",
      "[1 4 9]\n"
     ]
    }
   ],
   "source": [
    "t1 = np.array([1,2,3])\n",
    "t2 = np.array([1,2,3])\n",
    "print(np.dot(t1,t2))\n",
    "print(np.matmul(t1,t2))\n",
    "print(t1*t2) # 元素1 1 乘积"
   ]
  },
  {
   "cell_type": "markdown",
   "metadata": {},
   "source": [
    "#### 1维与2维矩阵的乘法"
   ]
  },
  {
   "cell_type": "code",
   "execution_count": 12,
   "metadata": {
    "collapsed": true
   },
   "outputs": [],
   "source": [
    "a = np.array([1,2,3])\n",
    "b = np.array([[1,1,1],\n",
    "             [2,2,2],\n",
    "             [3,3,3]])\n"
   ]
  },
  {
   "cell_type": "code",
   "execution_count": 13,
   "metadata": {},
   "outputs": [
    {
     "data": {
      "text/plain": [
       "array([14, 14, 14])"
      ]
     },
     "execution_count": 13,
     "metadata": {},
     "output_type": "execute_result"
    }
   ],
   "source": [
    "np.dot(a,b)"
   ]
  },
  {
   "cell_type": "code",
   "execution_count": 14,
   "metadata": {
    "scrolled": true
   },
   "outputs": [
    {
     "data": {
      "text/plain": [
       "array([14, 14, 14])"
      ]
     },
     "execution_count": 14,
     "metadata": {},
     "output_type": "execute_result"
    }
   ],
   "source": [
    "np.matmul(a,b)"
   ]
  },
  {
   "cell_type": "code",
   "execution_count": 15,
   "metadata": {
    "scrolled": true
   },
   "outputs": [
    {
     "data": {
      "text/plain": [
       "array([[1, 2, 3],\n",
       "       [2, 4, 6],\n",
       "       [3, 6, 9]])"
      ]
     },
     "execution_count": 15,
     "metadata": {},
     "output_type": "execute_result"
    }
   ],
   "source": [
    "#注意\n",
    "a*b # 扩展维度后，元素乘积"
   ]
  },
  {
   "cell_type": "code",
   "execution_count": null,
   "metadata": {
    "collapsed": true
   },
   "outputs": [],
   "source": []
  },
  {
   "cell_type": "markdown",
   "metadata": {},
   "source": [
    "#### 多维矩阵乘积的比较"
   ]
  },
  {
   "cell_type": "code",
   "execution_count": 16,
   "metadata": {
    "collapsed": true
   },
   "outputs": [],
   "source": [
    "m_4_4 = np.array([\n",
    "                       [1,2,3,4],\n",
    "                       [3,2,1,4],\n",
    "                       [5,4,6,7],\n",
    "                       [11,12,13,14]\n",
    "                      ])\n",
    "\n",
    "\n",
    "m_3_4_2 = np.array([\n",
    "                             [[2,3],\n",
    "                              [11,9],\n",
    "                              [32,21],\n",
    "                              [28,17]],\n",
    "    \n",
    "                             [[2,3],\n",
    "                              [1,9],\n",
    "                              [3,21],\n",
    "                              [28,7]],\n",
    "    \n",
    "                             [[2,3],\n",
    "                              [1,9],\n",
    "                              [3,21],\n",
    "                              [28,7]]\n",
    "                            ])"
   ]
  },
  {
   "cell_type": "code",
   "execution_count": 17,
   "metadata": {},
   "outputs": [
    {
     "name": "stdout",
     "output_type": "stream",
     "text": [
      "(4, 4)\n",
      "(3, 4, 2)\n"
     ]
    }
   ],
   "source": [
    "print(m_4_4.shape)\n",
    "print(m_3_4_2.shape)\n"
   ]
  },
  {
   "cell_type": "code",
   "execution_count": 18,
   "metadata": {
    "scrolled": true
   },
   "outputs": [
    {
     "name": "stdout",
     "output_type": "stream",
     "text": [
      "4x4*3x4x2 dot:\n",
      " [[[232 152]\n",
      "  [125 112]\n",
      "  [125 112]]\n",
      "\n",
      " [[172 116]\n",
      "  [123  76]\n",
      "  [123  76]]\n",
      "\n",
      " [[442 296]\n",
      "  [228 226]\n",
      "  [228 226]]\n",
      "\n",
      " [[962 652]\n",
      "  [465 512]\n",
      "  [465 512]]]\n",
      "\n",
      "4x4*3x4x2 matmul:\n",
      " [[[232 152]\n",
      "  [172 116]\n",
      "  [442 296]\n",
      "  [962 652]]\n",
      "\n",
      " [[125 112]\n",
      "  [123  76]\n",
      "  [228 226]\n",
      "  [465 512]]\n",
      "\n",
      " [[125 112]\n",
      "  [123  76]\n",
      "  [228 226]\n",
      "  [465 512]]]\n",
      "\n"
     ]
    }
   ],
   "source": [
    "print('4x4*3x4x2 dot:\\n {}\\n'.format(np.dot(m_4_4,m_3_4_2)))\n",
    "print('4x4*3x4x2 matmul:\\n {}\\n'.format(np.matmul(m_4_4,m_3_4_2)))"
   ]
  },
  {
   "cell_type": "code",
   "execution_count": 19,
   "metadata": {},
   "outputs": [
    {
     "name": "stdout",
     "output_type": "stream",
     "text": [
      "4 4 矩阵 与\n",
      "3 4 2 矩阵的乘积结果\n",
      "dot 结果的维度    = (4, 3, 2)\n",
      "matmul 结果的维度 = (3, 4, 2)\n"
     ]
    }
   ],
   "source": [
    "print('4 4 矩阵 与')\n",
    "print('3 4 2 矩阵的乘积结果')\n",
    "print('dot 结果的维度    =',np.dot(m_4_4,m_3_4_2).shape)\n",
    "print('matmul 结果的维度 =',np.matmul(m_4_4,m_3_4_2).shape)\n"
   ]
  },
  {
   "cell_type": "markdown",
   "metadata": {},
   "source": [
    "**检验以下m_4_4与m_3_4_2最后两维的矩阵乘积结果**"
   ]
  },
  {
   "cell_type": "code",
   "execution_count": 20,
   "metadata": {},
   "outputs": [
    {
     "data": {
      "text/plain": [
       "array([[232, 152],\n",
       "       [172, 116],\n",
       "       [442, 296],\n",
       "       [962, 652]])"
      ]
     },
     "execution_count": 20,
     "metadata": {},
     "output_type": "execute_result"
    }
   ],
   "source": [
    "np.dot(m_4_4,m_3_4_2[0,:,:])"
   ]
  },
  {
   "cell_type": "code",
   "execution_count": 21,
   "metadata": {},
   "outputs": [
    {
     "data": {
      "text/plain": [
       "array([[232, 125, 125],\n",
       "       [172, 123, 123],\n",
       "       [442, 228, 228],\n",
       "       [962, 465, 465]])"
      ]
     },
     "execution_count": 21,
     "metadata": {},
     "output_type": "execute_result"
    }
   ],
   "source": [
    "np.matmul(m_4_4,m_3_4_2[:,:,0].T)"
   ]
  },
  {
   "cell_type": "markdown",
   "metadata": {},
   "source": [
    "#### np.dot 定义：\n",
    "\n",
    "> dot(a, b)[i,j,k,m] = sum(a[i,j,:] * b[k,:,m])\n"
   ]
  },
  {
   "cell_type": "markdown",
   "metadata": {},
   "source": [
    "\n",
    "> import numpy as np\n",
    "\n",
    "> <span style=\"color:blue\">**import scipy**</span> 科学计算工具\n",
    "\n",
    "> <span style=\"color:blue\">**import pandas as pd **</span> 大杀器\n",
    "\n",
    "> <span style=\"color:blue\">**import sklearn **</span> 本课程前两周重点\n",
    "\n",
    "> import keras.backend as K\n",
    "\n",
    "> import tensorflow as tf\n"
   ]
  },
  {
   "cell_type": "code",
   "execution_count": 22,
   "metadata": {
    "collapsed": true
   },
   "outputs": [],
   "source": [
    "import sklearn"
   ]
  },
  {
   "cell_type": "code",
   "execution_count": 23,
   "metadata": {
    "collapsed": true
   },
   "outputs": [],
   "source": [
    "from sklearn import datasets\n",
    "from sklearn.metrics import auc\n",
    "from sklearn.model_selection import train_test_split\n",
    "from sklearn.model_selection import cross_val_score\n",
    "from sklearn.linear_model import LinearRegression\n",
    "from sklearn.linear_model import Lasso"
   ]
  },
  {
   "cell_type": "markdown",
   "metadata": {},
   "source": [
    "## 5. 安装Tensorflow 与 Keras"
   ]
  },
  {
   "cell_type": "code",
   "execution_count": 1,
   "metadata": {
    "scrolled": true
   },
   "outputs": [],
   "source": [
    "import tensorflow as tf"
   ]
  },
  {
   "cell_type": "markdown",
   "metadata": {},
   "source": [
    "理论上有很多种安装方式，这里我们用与anaconda相关的方式来安装，以方便以后的使用和管理。\n",
    "\n",
    "1. 需要新建一个环境，用python 3.5版本\n",
    "> conda create -n tensorflow35 python=3.5\n",
    "\n",
    "2. 激活这个环境\n",
    "> activate tensorflow35\n",
    "\n",
    "3. 在这个环境中，安装tensorflow\n",
    "> pip install tensorflow\n",
    "\n",
    "4. 安装成功后，检验以下\n",
    "方法：\n",
    "\n",
    "    * 在命令行中，敲击 python, 进入\n",
    "    * 敲击import tensorflow as tf 如果没有问题，那就安装成功了\n",
    "\n",
    "5. 利用第三节的内容，用ipykernel将 tensorflow35这个环境加到jupyter notebook里面\n"
   ]
  },
  {
   "cell_type": "code",
   "execution_count": null,
   "metadata": {
    "collapsed": true
   },
   "outputs": [],
   "source": []
  },
  {
   "cell_type": "code",
   "execution_count": null,
   "metadata": {
    "collapsed": true
   },
   "outputs": [],
   "source": []
  },
  {
   "cell_type": "code",
   "execution_count": null,
   "metadata": {
    "collapsed": true
   },
   "outputs": [],
   "source": []
  },
  {
   "cell_type": "code",
   "execution_count": null,
   "metadata": {
    "collapsed": true
   },
   "outputs": [],
   "source": []
  },
  {
   "cell_type": "code",
   "execution_count": null,
   "metadata": {
    "collapsed": true
   },
   "outputs": [],
   "source": []
  },
  {
   "cell_type": "markdown",
   "metadata": {},
   "source": [
    "## 6. Markdown的基本技巧\n",
    "\n",
    "[链接在这里哟](https://github.com/adam-p/markdown-here/wiki/Markdown-Cheatsheet)\n",
    "\n",
    "[小抄](https://guides.github.com/pdfs/markdown-cheatsheet-online.pdf)"
   ]
  },
  {
   "cell_type": "code",
   "execution_count": null,
   "metadata": {
    "collapsed": true
   },
   "outputs": [],
   "source": []
  },
  {
   "cell_type": "markdown",
   "metadata": {},
   "source": [
    "## 标题\n",
    "\n",
    "#\n",
    "##\n",
    "###\n",
    "####"
   ]
  },
  {
   "cell_type": "code",
   "execution_count": null,
   "metadata": {
    "collapsed": true
   },
   "outputs": [],
   "source": []
  },
  {
   "cell_type": "markdown",
   "metadata": {},
   "source": [
    "如何怎样怎么样**划重点**\n"
   ]
  },
  {
   "cell_type": "code",
   "execution_count": null,
   "metadata": {
    "collapsed": true
   },
   "outputs": [],
   "source": []
  },
  {
   "cell_type": "markdown",
   "metadata": {},
   "source": [
    "如何怎样怎么样*画斜体*"
   ]
  },
  {
   "cell_type": "code",
   "execution_count": null,
   "metadata": {
    "collapsed": true
   },
   "outputs": [],
   "source": []
  },
  {
   "cell_type": "markdown",
   "metadata": {},
   "source": [
    "引用一段话\n",
    "\n",
    "> 于是我就念了一句诗"
   ]
  },
  {
   "cell_type": "code",
   "execution_count": null,
   "metadata": {
    "collapsed": true
   },
   "outputs": [],
   "source": []
  },
  {
   "cell_type": "markdown",
   "metadata": {},
   "source": [
    "* 列出几个观点\n",
    "* 不带序号\n",
    "    * 子观点"
   ]
  },
  {
   "cell_type": "code",
   "execution_count": null,
   "metadata": {
    "collapsed": true
   },
   "outputs": [],
   "source": []
  },
  {
   "cell_type": "markdown",
   "metadata": {},
   "source": [
    "1. 列出我的观点\n",
    "2. 这次带序号\n",
    "    * 子观点"
   ]
  },
  {
   "cell_type": "code",
   "execution_count": null,
   "metadata": {
    "collapsed": true
   },
   "outputs": [],
   "source": []
  },
  {
   "cell_type": "markdown",
   "metadata": {},
   "source": [
    "插入数学符号\n",
    "\n",
    "$e^{i\\pi}+1 = 0$\n",
    "\n",
    "$ \\sum_{\\forall i}{x_i^{2}} $\n",
    "\n",
    "\\begin{align}\n",
    "\\dot{x} & = \\sigma(y-x) \\\\\n",
    "\\dot{y} & = \\rho x - y - xz \\\\\n",
    "\\dot{z} & = -\\beta z + xy\n",
    "\\end{align}\n",
    "\n",
    "\\begin{equation*}\n",
    "\\left( \\sum_{k=1}^n a_k b_k \\right)^2 \\leq \\left( \\sum_{k=1}^n a_k^2 \\right) \\left( \\sum_{k=1}^n b_k^2 \\right)\n",
    "\\end{equation*}\n",
    "\n",
    "\n",
    "[更多小抄](https://reu.dimacs.rutgers.edu/Symbols.pdf)\n",
    "\n",
    "[更多小抄2](http://jupyter-notebook.readthedocs.io/en/stable/examples/Notebook/Typesetting%20Equations.html)\n"
   ]
  },
  {
   "cell_type": "code",
   "execution_count": null,
   "metadata": {
    "collapsed": true
   },
   "outputs": [],
   "source": []
  },
  {
   "cell_type": "markdown",
   "metadata": {},
   "source": [
    "[引用外部链接](https://github.com/adam-p/markdown-here/wiki/Markdown-Cheatsheet)\n"
   ]
  },
  {
   "cell_type": "code",
   "execution_count": null,
   "metadata": {
    "collapsed": true
   },
   "outputs": [],
   "source": []
  },
  {
   "cell_type": "markdown",
   "metadata": {},
   "source": [
    "插入图片\n"
   ]
  },
  {
   "cell_type": "code",
   "execution_count": null,
   "metadata": {
    "collapsed": true
   },
   "outputs": [],
   "source": []
  },
  {
   "cell_type": "code",
   "execution_count": null,
   "metadata": {
    "collapsed": true
   },
   "outputs": [],
   "source": []
  },
  {
   "cell_type": "code",
   "execution_count": null,
   "metadata": {
    "collapsed": true
   },
   "outputs": [],
   "source": []
  },
  {
   "cell_type": "markdown",
   "metadata": {},
   "source": [
    "![来来来](https://cdn.cubegoal.com/app_static/images/championship/upload/ddf819e8f3dd513fb5d837a7444d5e598cbfc88e.gif)"
   ]
  },
  {
   "cell_type": "code",
   "execution_count": null,
   "metadata": {
    "collapsed": true
   },
   "outputs": [],
   "source": []
  },
  {
   "cell_type": "markdown",
   "metadata": {},
   "source": [
    "<img src='./spacex.jpg',width=200>"
   ]
  },
  {
   "cell_type": "code",
   "execution_count": 3,
   "metadata": {
    "collapsed": true
   },
   "outputs": [],
   "source": [
    "from IPython.display import Image"
   ]
  },
  {
   "cell_type": "code",
   "execution_count": 27,
   "metadata": {},
   "outputs": [
    {
     "data": {
      "image/jpeg": "[encoded data removed]",
      "text/plain": [
       "<IPython.core.display.Image object>"
      ]
     },
     "execution_count": 27,
     "metadata": {
      "image/jpeg": {
       "width": 200
      }
     },
     "output_type": "execute_result"
    }
   ],
   "source": [
    "Image(filename='./spacex.jpg',width=200)"
   ]
  },
  {
   "cell_type": "markdown",
   "metadata": {},
   "source": [
    "* **插入表格**\n",
    "\n",
    "| 第一栏        | 第二栏          | 第三栏  |\n",
    "| ------------- |:-------------:| -----:|\n",
    "| col 3 is      | right-aligned | 1600 |\n",
    "| col 2 is      | centered      |   12 |\n",
    "| zebra stripes | are neat      |    1 |"
   ]
  },
  {
   "cell_type": "code",
   "execution_count": null,
   "metadata": {
    "collapsed": true
   },
   "outputs": [],
   "source": []
  },
  {
   "cell_type": "code",
   "execution_count": null,
   "metadata": {
    "collapsed": true
   },
   "outputs": [],
   "source": []
  },
  {
   "cell_type": "code",
   "execution_count": null,
   "metadata": {
    "collapsed": true
   },
   "outputs": [],
   "source": []
  },
  {
   "cell_type": "code",
   "execution_count": null,
   "metadata": {
    "collapsed": true
   },
   "outputs": [],
   "source": []
  }
 ],
 "metadata": {
  "kernelspec": {
   "display_name": "Python 3",
   "language": "python",
   "name": "python3"
  },
  "language_info": {
   "codemirror_mode": {
    "name": "ipython",
    "version": 3
   },
   "file_extension": ".py",
   "mimetype": "text/x-python",
   "name": "python",
   "nbconvert_exporter": "python",
   "pygments_lexer": "ipython3",
   "version": "3.6.3"
  }
 },
 "nbformat": 4,
 "nbformat_minor": 2
}
